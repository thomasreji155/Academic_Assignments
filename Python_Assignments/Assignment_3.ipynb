{
 "cells": [
  {
   "cell_type": "markdown",
   "id": "1840359f",
   "metadata": {},
   "source": [
    "# Assignment_3"
   ]
  },
  {
   "cell_type": "markdown",
   "id": "94bea3d4",
   "metadata": {},
   "source": [
    "## Question 1 \n",
    "Why are functions advantageous to have in your programs? \n",
    "### Answer 1 \n",
    "Function is like a mini program, which we can write seperately from the main program. The main advantage of functions are reusability. The same function we can use any where in the program if we want.Ofcourse it saves a lot of time. It increases the redability too. "
   ]
  },
  {
   "cell_type": "markdown",
   "id": "f4bc56c4",
   "metadata": {},
   "source": [
    "## Question 2 : \n",
    "WHen does the code in a function run: when it's specified or when it's called? \n",
    "### Answer 2\n",
    "If we want to use a function, then we have to make a function call. So, function run when we call it.  "
   ]
  },
  {
   "cell_type": "markdown",
   "id": "502b3099",
   "metadata": {},
   "source": [
    "## Question 3 :\n",
    "What statement creates a function?\n",
    "### Answer 3 :\n",
    "We use def statement to create functions. \n"
   ]
  },
  {
   "cell_type": "code",
   "execution_count": 1,
   "id": "0a8af615",
   "metadata": {},
   "outputs": [],
   "source": [
    "def print_hi():\n",
    "    print('hi')"
   ]
  },
  {
   "cell_type": "code",
   "execution_count": 2,
   "id": "ab8a5fef",
   "metadata": {},
   "outputs": [
    {
     "name": "stdout",
     "output_type": "stream",
     "text": [
      "hi\n"
     ]
    }
   ],
   "source": [
    "print_hi()"
   ]
  },
  {
   "cell_type": "markdown",
   "id": "7ee947f4",
   "metadata": {},
   "source": [
    "## Question 4 \n",
    "What is the difference between a function and a function call? \n",
    "### Answer 4 \n",
    "Function is a set of procedure to achieve a task, Whereas function call is how we make use of function for a specific task."
   ]
  },
  {
   "cell_type": "markdown",
   "id": "84ced30c",
   "metadata": {},
   "source": [
    "## Question 5 \n",
    "How many global scopes are there in a Python program? How many local scopes?\n",
    " \n",
    "### Answer 5 \n",
    "There is only one global scope and there can be many local scope.\n",
    "For example, if we create a variable inside a particular function that variable is in local scope. So there can be many global scope."
   ]
  },
  {
   "cell_type": "markdown",
   "id": "c4572866",
   "metadata": {},
   "source": [
    "## Question 6 \n",
    "What happens to variables in a local scope when the function call returns?\n",
    "### Answer 6 \n",
    "Local variables will get destroyed "
   ]
  },
  {
   "cell_type": "markdown",
   "id": "3d6e0095",
   "metadata": {},
   "source": [
    "## Question 7 \n",
    "What is the concept of a return value? Is it possible to have a return value in an expression?\n",
    "### Answer 7 \n",
    "A return or return value is a value that a function returns to the script when it completes its task. A return value can be any of the four variable types: handle, integer, object or string. \n",
    "\n",
    "Expression performs a task and returns a value but it is not a return value. Return value is always with repect to a function. "
   ]
  },
  {
   "cell_type": "markdown",
   "id": "d5624695",
   "metadata": {},
   "source": [
    "## Question 8 \n",
    "If a function does not have a return statement, what is the return value of a call to that function?\n",
    "\n",
    "### Answer 8 \n",
    "If we do not specify any return statement then the default return is None."
   ]
  },
  {
   "cell_type": "markdown",
   "id": "f3a9ad88",
   "metadata": {},
   "source": [
    "## Question 9 \n",
    "How do you make a function variable refer to the global variable?\n",
    "### Answer 9 \n",
    "To create a global variable inside a function we have to use global keyword."
   ]
  },
  {
   "cell_type": "markdown",
   "id": "99b8efd8",
   "metadata": {},
   "source": [
    "## Question 10 \n",
    "What is the data type of None ? \n",
    "### Answer 10 \n",
    "NoneType"
   ]
  },
  {
   "cell_type": "code",
   "execution_count": 7,
   "id": "3a22555b",
   "metadata": {},
   "outputs": [
    {
     "data": {
      "text/plain": [
       "NoneType"
      ]
     },
     "execution_count": 7,
     "metadata": {},
     "output_type": "execute_result"
    }
   ],
   "source": [
    "type(None)"
   ]
  },
  {
   "cell_type": "markdown",
   "id": "fd5e82b3",
   "metadata": {},
   "source": [
    "## Question 11 \n",
    "What does the sentence import areallyourpetsnamederic do?\n",
    "### Answer 11 \n",
    "mporting refers to allowing a Python file or a Python module to access the script from another Python file or module."
   ]
  },
  {
   "cell_type": "markdown",
   "id": "991980a2",
   "metadata": {},
   "source": [
    "## Question 12 \n",
    "If you had a bacon() feature in a spam module, what would you call it after importing spam?\n",
    "### Answer 12 \n",
    "    import spam \n",
    "    spam.bacon() "
   ]
  },
  {
   "cell_type": "markdown",
   "id": "4beb514f",
   "metadata": {},
   "source": [
    "## Question 13 \n",
    "What can you do to save a programme from crashing if it encounters an error?\n",
    "### Answer 13 \n",
    "Error handling can be used to notify the user of why the error occurred and gracefully exit the process that caused the error"
   ]
  },
  {
   "cell_type": "markdown",
   "id": "8a6378ec",
   "metadata": {},
   "source": [
    "## Question 14 \n",
    "What is the purpose of the try clause? What is the purpose of the except clause?\n",
    "\n",
    "### Answer 14 \n",
    "In the try clause, all statements are executed until an exception is encountered. except is used to catch and handle the exception(s) that are encountered in the try clause. \n",
    "The else statement lets you code sections that should run only when no exceptions are encountered in the try clause."
   ]
  },
  {
   "cell_type": "markdown",
   "id": "50a27c95",
   "metadata": {},
   "source": [
    "## Thank you :)"
   ]
  }
 ],
 "metadata": {
  "kernelspec": {
   "display_name": "Python 3.8.8 64-bit ('base': conda)",
   "language": "python",
   "name": "python388jvsc74a57bd0b7dce63e39a4a8c98f5a1ef1e65571106e15efed32663927d397570964b86d03"
  },
  "language_info": {
   "codemirror_mode": {
    "name": "ipython",
    "version": 3
   },
   "file_extension": ".py",
   "mimetype": "text/x-python",
   "name": "python",
   "nbconvert_exporter": "python",
   "pygments_lexer": "ipython3",
   "version": "3.8.8"
  }
 },
 "nbformat": 4,
 "nbformat_minor": 5
}
