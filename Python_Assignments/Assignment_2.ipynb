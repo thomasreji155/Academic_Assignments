{
 "cells": [
  {
   "cell_type": "markdown",
   "id": "8e62d390",
   "metadata": {},
   "source": [
    "# <u> Assignment_2 </u>\n"
   ]
  },
  {
   "cell_type": "markdown",
   "id": "b899e0cc",
   "metadata": {},
   "source": [
    "## Question 1 \n",
    "What are the two values of the boolean data type? How do you write them? \n",
    "\n",
    "### Answer 1 \n",
    "The two values of boolean data type are False and True"
   ]
  },
  {
   "cell_type": "code",
   "execution_count": 1,
   "id": "7a28b33b",
   "metadata": {},
   "outputs": [
    {
     "data": {
      "text/plain": [
       "True"
      ]
     },
     "execution_count": 1,
     "metadata": {},
     "output_type": "execute_result"
    }
   ],
   "source": [
    "True  # How we write true boolean value"
   ]
  },
  {
   "cell_type": "code",
   "execution_count": 3,
   "id": "e5cf7e04",
   "metadata": {},
   "outputs": [
    {
     "data": {
      "text/plain": [
       "False"
      ]
     },
     "execution_count": 3,
     "metadata": {},
     "output_type": "execute_result"
    }
   ],
   "source": [
    "False  # How we write false boolean value "
   ]
  },
  {
   "cell_type": "markdown",
   "id": "98d3e773",
   "metadata": {},
   "source": [
    "## Question 2 \n",
    "What are the three different types of Boolean operators? \n",
    "### Answer 2 \n",
    "The three different types of boolean operators are namely 'and','or', 'not'.\n",
    "\n",
    "Examples are: "
   ]
  },
  {
   "cell_type": "code",
   "execution_count": 9,
   "id": "3b52fd47",
   "metadata": {},
   "outputs": [
    {
     "data": {
      "text/plain": [
       "False"
      ]
     },
     "execution_count": 9,
     "metadata": {},
     "output_type": "execute_result"
    }
   ],
   "source": [
    "True and False"
   ]
  },
  {
   "cell_type": "code",
   "execution_count": 11,
   "id": "5650428e",
   "metadata": {},
   "outputs": [
    {
     "data": {
      "text/plain": [
       "False"
      ]
     },
     "execution_count": 11,
     "metadata": {},
     "output_type": "execute_result"
    }
   ],
   "source": [
    "not True"
   ]
  },
  {
   "cell_type": "code",
   "execution_count": 12,
   "id": "757e7fc4",
   "metadata": {},
   "outputs": [
    {
     "data": {
      "text/plain": [
       "True"
      ]
     },
     "execution_count": 12,
     "metadata": {},
     "output_type": "execute_result"
    }
   ],
   "source": [
    "False or True"
   ]
  },
  {
   "cell_type": "markdown",
   "id": "e43dee85",
   "metadata": {},
   "source": [
    "## Question 3 \n",
    "Make a list of each Boolean operator's truth tables (i.e. every possible combination of Boolean values for the operator and what it evaluate )\n",
    "\n",
    "### Answer "
   ]
  },
  {
   "cell_type": "markdown",
   "id": "ef3f853c",
   "metadata": {},
   "source": [
    "**<center>AND TABLE</center>**\n",
    "\n",
    "Column 1 | Column 2 | OUTPUT\n",
    "--- | --- | ---\n",
    "False | Flase | False \n",
    "True |True| True\n",
    "True |False| False \n",
    "False | True | False"
   ]
  },
  {
   "cell_type": "markdown",
   "id": "079e20d7",
   "metadata": {},
   "source": [
    "**<center>OR TABLE</center>**\n",
    "\n",
    "Column 1 | Column 2 | OUTPUT\n",
    "--- | --- | ---\n",
    "False | Flase | False \n",
    "True |True| True\n",
    "True |False| True \n",
    "False | True | True"
   ]
  },
  {
   "cell_type": "markdown",
   "id": "f864f52e",
   "metadata": {},
   "source": [
    "**<center>NOT TABLE</center>**\n",
    "\n",
    "Column 1 | OUTPUT \n",
    "--- | ---\n",
    "False |True\n",
    "True |False\n",
    "\n"
   ]
  },
  {
   "cell_type": "markdown",
   "id": "ae3f4095",
   "metadata": {},
   "source": [
    "## Question 4 \n",
    " What are the values of the following expressions?\n",
    " \n",
    "    * (5 > 4) and (3 == 5)\n",
    "    * not (5 > 4)\n",
    "    * (5 > 4) or (3 == 5)\n",
    "    * not ((5 > 4) or (3 == 5))\n",
    "    * (True and True) and (True == False)\n",
    "    * (not False) or (not True)\n",
    "\n",
    "### Answer 4 \n",
    "\n",
    "Expression | Value\n",
    "--- | ---\n",
    "(5 > 4) and (3 == 5)| False\n",
    "not (5 > 4)|False\n",
    "(5 > 4) or (3 == 5)|True\n",
    "not ((5 > 4) or (3 == 5))|False\n",
    "(True and True) and (True == False)|False \n",
    "(not False) or (not True)|True\n"
   ]
  },
  {
   "cell_type": "markdown",
   "id": "6ca88c3f",
   "metadata": {},
   "source": [
    "## Question 5 : \n",
    "What are the six comparison operators ? \n",
    "\n",
    "### Answer 5 \n",
    "< , > , <= , >= , ==, != "
   ]
  },
  {
   "cell_type": "markdown",
   "id": "cd451971",
   "metadata": {},
   "source": [
    "## Question 6 \n",
    "How do you tell the difference between the equal to and assignment operators?Describe a condition and when you would use one.\n",
    "\n",
    "### Answer 6 \n",
    "We use '=' operator for giving a value to a variable. \n",
    "= is the assignment operator in python\n",
    "Where as '==' is used for comparing a two values.\n",
    "Example :"
   ]
  },
  {
   "cell_type": "code",
   "execution_count": 19,
   "id": "c750e247",
   "metadata": {},
   "outputs": [],
   "source": [
    "a = 3 # assigning 3 to the variable a \n",
    "b = 5 # assigning 5 to the variable b "
   ]
  },
  {
   "cell_type": "code",
   "execution_count": 21,
   "id": "86718c72",
   "metadata": {},
   "outputs": [
    {
     "data": {
      "text/plain": [
       "False"
      ]
     },
     "execution_count": 21,
     "metadata": {},
     "output_type": "execute_result"
    }
   ],
   "source": [
    "# lets compare the values of both a and b \n",
    "a == b  # a and b are not the same "
   ]
  },
  {
   "cell_type": "markdown",
   "id": "425d0f78",
   "metadata": {},
   "source": [
    "## Question 7 \n",
    "Identify the three blocks in this code:\n",
    "    spam = 0\n",
    "\n",
    "    if spam == 10:\n",
    "    print('eggs')\n",
    "    if spam > 5:\n",
    "        print('bacon')\n",
    "    else:\n",
    "        print('ham')\n",
    "        print('spam')\n",
    "        print('spam')\n",
    "        \n",
    "        \n",
    "### Answer 7 :\n",
    "we can see two if block and one else block in the above code."
   ]
  },
  {
   "cell_type": "markdown",
   "id": "a5ce4f1e",
   "metadata": {},
   "source": [
    "## Question 8 \n",
    "Write code that prints Hello if 1 is stored in spam, prints Howdy if 2 is stored in spam, and prints Greetings! if anything else is stored in spam.\n",
    "\n",
    "### Answer 8 "
   ]
  },
  {
   "cell_type": "code",
   "execution_count": 24,
   "id": "f5c088cb",
   "metadata": {
    "scrolled": true
   },
   "outputs": [
    {
     "name": "stdout",
     "output_type": "stream",
     "text": [
      "Hello\n",
      "Greetings!\n"
     ]
    }
   ],
   "source": [
    "spam = 1  # spam variable is stored with value 1 \n",
    "if spam == 1:\n",
    "    print('Hello')\n",
    "if spam == 2:\n",
    "    print('Howdy')\n",
    "else:\n",
    "    print('Greetings!') \n"
   ]
  },
  {
   "cell_type": "markdown",
   "id": "6e487d33",
   "metadata": {},
   "source": [
    "## Question 9 :\n",
    "If your programme is stuck in an endless loop, what keys you'll press?\n",
    " :\n",
    "### Answer 9\n",
    "kernel interrupt key(Key board intertuption )"
   ]
  },
  {
   "cell_type": "markdown",
   "id": "594a3ea2",
   "metadata": {},
   "source": [
    "## Question 10:\n",
    "How can you tell the difference between break and continue? \n",
    "### Answer 10 \n",
    "\n",
    "Break statement breaks the ongoing loop(for or while). Whereas continue statement skip an instance of a for or while loop"
   ]
  },
  {
   "cell_type": "markdown",
   "id": "bebdb497",
   "metadata": {},
   "source": [
    "## Question 11 \n",
    "In a for loop, what is the difference between range(10), range(0, 10), and range(0, 10, 1)?\n",
    "\n",
    "### Answer 11 \n",
    "Range is generator object in python. \n",
    "In a for loop range is an iterator to loop over.\n",
    "range(10) and range(0,10) are same. When we pass list to grab elements in the range(10) and range(0,10), both will give same output. The first parameter in the range() function is the start and second  is the end. Also we can have a jump paramter. \n",
    "range(0,10,1) which simply means that start = 0, end = 10, and jump =  1. The default value of start is 0 and jump is 1."
   ]
  },
  {
   "cell_type": "code",
   "execution_count": 28,
   "id": "f72f2668",
   "metadata": {},
   "outputs": [
    {
     "data": {
      "text/plain": [
       "[0, 1, 2, 3, 4, 5, 6, 7, 8, 9]"
      ]
     },
     "execution_count": 28,
     "metadata": {},
     "output_type": "execute_result"
    }
   ],
   "source": [
    "list(range(0,10))"
   ]
  },
  {
   "cell_type": "code",
   "execution_count": 29,
   "id": "94a4dcdf",
   "metadata": {},
   "outputs": [
    {
     "data": {
      "text/plain": [
       "[0, 1, 2, 3, 4, 5, 6, 7, 8]"
      ]
     },
     "execution_count": 29,
     "metadata": {},
     "output_type": "execute_result"
    }
   ],
   "source": [
    "list(range(9))"
   ]
  },
  {
   "cell_type": "code",
   "execution_count": 30,
   "id": "3614b40b",
   "metadata": {},
   "outputs": [
    {
     "data": {
      "text/plain": [
       "[0, 1, 2, 3, 4, 5, 6, 7, 8, 9]"
      ]
     },
     "execution_count": 30,
     "metadata": {},
     "output_type": "execute_result"
    }
   ],
   "source": [
    "list(range(0,10,1))"
   ]
  },
  {
   "cell_type": "markdown",
   "id": "e6a9b8e5",
   "metadata": {},
   "source": [
    "## Question 12:\n",
    " Write a short program that prints the numbers 1 to 10 using a for loop. Then write an equivalent program that prints the numbers 1 to10 using a while loop.\n",
    " \n",
    "### Answer 12:"
   ]
  },
  {
   "cell_type": "code",
   "execution_count": 31,
   "id": "3b7396f5",
   "metadata": {},
   "outputs": [
    {
     "name": "stdout",
     "output_type": "stream",
     "text": [
      "1\n",
      "2\n",
      "3\n",
      "4\n",
      "5\n",
      "6\n",
      "7\n",
      "8\n",
      "9\n",
      "10\n"
     ]
    }
   ],
   "source": [
    "# printing 1 to 10 using for loop \n",
    "for i in range(1,11):\n",
    "    print(i)"
   ]
  },
  {
   "cell_type": "code",
   "execution_count": 33,
   "id": "74a31a30",
   "metadata": {},
   "outputs": [
    {
     "name": "stdout",
     "output_type": "stream",
     "text": [
      "1\n",
      "2\n",
      "3\n",
      "4\n",
      "5\n",
      "6\n",
      "7\n",
      "8\n",
      "9\n",
      "10\n"
     ]
    }
   ],
   "source": [
    "# printing 1 to 10 using while loop \n",
    "value =1  \n",
    "while value <11:\n",
    "    print(value)\n",
    "    value+=1"
   ]
  },
  {
   "cell_type": "markdown",
   "id": "71dc44cb",
   "metadata": {},
   "source": [
    "## Question 13 \n",
    "If you had a function named bacon() inside a module named spam, how would you call it after importing spam?\n",
    "\n",
    "### Answer 13 \n",
    "    import spam \n",
    "    spam.bacon()"
   ]
  },
  {
   "cell_type": "markdown",
   "id": "e0227d94",
   "metadata": {},
   "source": [
    "## Thank you :)"
   ]
  }
 ],
 "metadata": {
  "kernelspec": {
   "display_name": "Python 3.8.8 64-bit ('base': conda)",
   "language": "python",
   "name": "python388jvsc74a57bd0b7dce63e39a4a8c98f5a1ef1e65571106e15efed32663927d397570964b86d03"
  },
  "language_info": {
   "codemirror_mode": {
    "name": "ipython",
    "version": 3
   },
   "file_extension": ".py",
   "mimetype": "text/x-python",
   "name": "python",
   "nbconvert_exporter": "python",
   "pygments_lexer": "ipython3",
   "version": "3.8.8"
  }
 },
 "nbformat": 4,
 "nbformat_minor": 5
}
