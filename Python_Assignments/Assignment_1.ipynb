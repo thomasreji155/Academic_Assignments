{
 "cells": [
  {
   "cell_type": "markdown",
   "id": "5cde3740",
   "metadata": {},
   "source": [
    "# Assignment_1"
   ]
  },
  {
   "cell_type": "markdown",
   "id": "5021d867",
   "metadata": {},
   "source": [
    "## Question 1\n",
    "<b>In the below elements which of them are values or an expression? eg:- values can be integer or string and expressions will be mathematical operators.</b>\n",
    "1. * \n",
    "2.'hello'\n",
    "3. -87.8\n",
    "4. - \n",
    "5. / \n",
    "6.     • \n",
    "7. 6 \n",
    "\n",
    "\n",
    "### Answer1: \n",
    "1. *      ----  Expression \n",
    "2.'hello' ----  value\n",
    "3. -87.8  ----- value\n",
    "4. -      ----- Expression \n",
    "5. /      ----- Expression\n",
    "6. +      ----- Expression\n",
    "7. 6      ----- Value "
   ]
  },
  {
   "cell_type": "markdown",
   "id": "30621c73",
   "metadata": {},
   "source": [
    "## Question 2 \n",
    "<b>What is the difference between string and variable ? </b>\n",
    "\n",
    "### Answer2 \n",
    "A variable is something by which we can store information. String is a kind of information which we can store using a variable. "
   ]
  },
  {
   "cell_type": "markdown",
   "id": "6d29bbcb",
   "metadata": {},
   "source": [
    "## Question 3\n",
    "<b>Describe three different data types?</b>\n",
    "\n",
    "### Answer3\n",
    "Numeric : Numeric value can be either an integer value or it can be a floating point value. \n",
    "Boolean : which consists of two values namely, True and False\n",
    "String : String is a sequnce of one more valus enclosed by double or single brackets. "
   ]
  },
  {
   "cell_type": "markdown",
   "id": "1c1ab301",
   "metadata": {},
   "source": [
    "## Question 4\n",
    "<b>What is an expression made up of? What do all expressions do?</b> \n",
    "\n",
    "### Answer4\n",
    "A sequence of operands and operators is known as expressions. For example, \n",
    "a+b is an expression, where a and b are user defined variables. Expressions allow us to compute and assign values to variables. It also helps in the execution flow.  "
   ]
  },
  {
   "cell_type": "markdown",
   "id": "fe78a93d",
   "metadata": {},
   "source": [
    "## Question 5 \n",
    "<b>This assignment statements, like spam = 10. What is the difference between an expression and a statement? </b>\n",
    "### Answer5 \n",
    "Statement forms a complete unit of execution. It does something and it shows an action or command. Whereas expressions evalueate something. Expresssion is a combination of operands, methods and operations. "
   ]
  },
  {
   "cell_type": "markdown",
   "id": "65f6ca3a",
   "metadata": {},
   "source": [
    "## Question 6 \n",
    "<b>After running the following code, what does the variable bacon contain?\n",
    "    \n",
    "bacon = 22\n",
    "    \n",
    "bacon + 1\n",
    "</b>\n",
    "\n",
    "### Answer 6"
   ]
  },
  {
   "cell_type": "code",
   "execution_count": 4,
   "id": "91213579",
   "metadata": {},
   "outputs": [
    {
     "data": {
      "text/plain": [
       "23"
      ]
     },
     "execution_count": 4,
     "metadata": {},
     "output_type": "execute_result"
    }
   ],
   "source": [
    "bacon = 22\n",
    "bacon+1"
   ]
  },
  {
   "cell_type": "code",
   "execution_count": 5,
   "id": "d6b117ee",
   "metadata": {},
   "outputs": [
    {
     "name": "stdout",
     "output_type": "stream",
     "text": [
      "22\n"
     ]
    }
   ],
   "source": [
    "print(bacon)"
   ]
  },
  {
   "cell_type": "markdown",
   "id": "4cac4b25",
   "metadata": {},
   "source": [
    "So, bacon variable value is 22( unchanged)"
   ]
  },
  {
   "cell_type": "markdown",
   "id": "5e6ae05d",
   "metadata": {},
   "source": [
    "## Question 7\n",
    "<b>What should the values of the following two terms be?\n",
    "'spam' + 'spamspam'\n",
    "'spam' * 3 </b>\n",
    "\n",
    "\n",
    "### Answer 7 \n",
    "The first value should be 'spamspamspam' \n",
    "\n",
    "The second value is 'spamspamspam'"
   ]
  },
  {
   "cell_type": "code",
   "execution_count": 10,
   "id": "ab2b78d9",
   "metadata": {},
   "outputs": [
    {
     "data": {
      "text/plain": [
       "'spamspamspam'"
      ]
     },
     "execution_count": 10,
     "metadata": {},
     "output_type": "execute_result"
    }
   ],
   "source": [
    "'spam' + 'spamspam'"
   ]
  },
  {
   "cell_type": "code",
   "execution_count": 9,
   "id": "aa0b2b24",
   "metadata": {},
   "outputs": [
    {
     "data": {
      "text/plain": [
       "'spamspamspam'"
      ]
     },
     "execution_count": 9,
     "metadata": {},
     "output_type": "execute_result"
    }
   ],
   "source": [
    "'spam' * 3"
   ]
  },
  {
   "cell_type": "markdown",
   "id": "cb2a42ef",
   "metadata": {},
   "source": [
    "## Question 8 \n",
    "<b>Why is eggs a valid name while 100 is invalid</b>\n",
    "\n",
    "### Answer 8 \n",
    "A variable name must start with a letter or the underscore character.It cannot start with a number. It can only contain alpha-numeric characters and underscores (A-z, 0-9, and _ ).\n",
    "Variable names are case-sensitive (age, Age and AGE are three different variables)\n",
    "\n",
    "So, the name eggs satisfy the conditions for a variable \n",
    "but 100 starts with a number and it contains only the numerics, so it can not be a variable. "
   ]
  },
  {
   "cell_type": "markdown",
   "id": "c0c43368",
   "metadata": {},
   "source": [
    "## Question 9 : \n",
    "<b> What three functions can be used to get the integer, floating-point number, or string version of a value?</b>\n",
    "\n",
    "### Answer 9 \n",
    "str(), float() , int() "
   ]
  },
  {
   "cell_type": "code",
   "execution_count": 11,
   "id": "bde89c84",
   "metadata": {},
   "outputs": [
    {
     "data": {
      "text/plain": [
       "'3'"
      ]
     },
     "execution_count": 11,
     "metadata": {},
     "output_type": "execute_result"
    }
   ],
   "source": [
    "str(3)"
   ]
  },
  {
   "cell_type": "code",
   "execution_count": 12,
   "id": "3f140c65",
   "metadata": {},
   "outputs": [
    {
     "data": {
      "text/plain": [
       "3.0"
      ]
     },
     "execution_count": 12,
     "metadata": {},
     "output_type": "execute_result"
    }
   ],
   "source": [
    "float(3)"
   ]
  },
  {
   "cell_type": "code",
   "execution_count": 15,
   "id": "ed87b9c6",
   "metadata": {},
   "outputs": [
    {
     "data": {
      "text/plain": [
       "23"
      ]
     },
     "execution_count": 15,
     "metadata": {},
     "output_type": "execute_result"
    }
   ],
   "source": [
    "int(23.23)"
   ]
  },
  {
   "cell_type": "markdown",
   "id": "51f65766",
   "metadata": {},
   "source": [
    "## Question 10 \n",
    "<b> Why does this expression cause an error? How can you fix it?\n",
    "'I have eaten ' + 99 + ' burritos.' </b>\n",
    "\n",
    "### Answer 10 \n",
    "we can not add strings and integer together.What we can do is just the concatenation as follows;"
   ]
  },
  {
   "cell_type": "code",
   "execution_count": 18,
   "id": "a2c4e55e",
   "metadata": {},
   "outputs": [
    {
     "data": {
      "text/plain": [
       "' I have eaten 99 burritos'"
      ]
     },
     "execution_count": 18,
     "metadata": {},
     "output_type": "execute_result"
    }
   ],
   "source": [
    "' I have eaten ' + str(99) + ' burritos'"
   ]
  },
  {
   "cell_type": "markdown",
   "id": "4c8d2e60",
   "metadata": {},
   "source": [
    "## Thank you "
   ]
  }
 ],
 "metadata": {
  "kernelspec": {
   "display_name": "Python 3.8.8 64-bit ('base': conda)",
   "language": "python",
   "name": "python388jvsc74a57bd0b7dce63e39a4a8c98f5a1ef1e65571106e15efed32663927d397570964b86d03"
  },
  "language_info": {
   "codemirror_mode": {
    "name": "ipython",
    "version": 3
   },
   "file_extension": ".py",
   "mimetype": "text/x-python",
   "name": "python",
   "nbconvert_exporter": "python",
   "pygments_lexer": "ipython3",
   "version": "3.8.8"
  }
 },
 "nbformat": 4,
 "nbformat_minor": 5
}
