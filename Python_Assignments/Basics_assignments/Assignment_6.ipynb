{
 "cells": [
  {
   "cell_type": "markdown",
   "id": "82132f17",
   "metadata": {},
   "source": [
    "# Assignment_6"
   ]
  },
  {
   "cell_type": "markdown",
   "id": "908178d2",
   "metadata": {},
   "source": [
    "## 1. What are escape characters, and how do you use them?\n",
    "\n",
    "Escape characters allows us to include special characters in string. we can add a backslash (\\) before the character we want to escape. In other words they are useful for providing literal representations of non printing characters and characters that usually have special meanings such as quotation mark. \n",
    "\n",
    "   print('this is thomas's laptop') # this will show you error \n",
    "   \n",
    "   print('this is thomas\\'s laptop') # here we used escape character"
   ]
  },
  {
   "cell_type": "markdown",
   "id": "78b19c25",
   "metadata": {},
   "source": [
    "## 2. What do the escape characters n and t stand for?\n",
    "\\n stands for newline and \\t stands or tab"
   ]
  },
  {
   "cell_type": "markdown",
   "id": "2e453a17",
   "metadata": {},
   "source": [
    "## 3. What is the way to include backslash characters in a string?\n",
    "If we want to include backslash in a string, we have to use escape characters.It should be as follows: \n",
    "\n",
    "    \\\\ "
   ]
  },
  {
   "cell_type": "markdown",
   "id": "be33bf18",
   "metadata": {},
   "source": [
    "## 4. The string \"Howl's Moving Castle\" is a correct value. Why isn't the single quote character in the word Howl's not escaped a problem?\n",
    "\n",
    "Since we started the sentence using a double quotes , python looks for the matching second double quotes for pairing. So, the sinle quotes are escaped here."
   ]
  },
  {
   "cell_type": "markdown",
   "id": "03e0f727",
   "metadata": {},
   "source": [
    "## 5. How do you write a string of newlines if you don't want to use the n character?\n",
    "\n",
    "  We use /n for newline string. we can use os.linsep also for a newline representation. The internal scanner recognise the os.linesep and replace it by a single \"\\n\"."
   ]
  },
  {
   "cell_type": "markdown",
   "id": "b743210e",
   "metadata": {},
   "source": [
    "## 6. What are the values of the given expressions?\n",
    "    *'Hello, world!'[1] = 'e'\n",
    "    *'Hello, world!'[0:5] = 'Hello'\n",
    "    *'Hello, world!'[:5] = 'Hello'\n",
    "    *'Hello, world!'[3:] = 'lo world!'"
   ]
  },
  {
   "cell_type": "markdown",
   "id": "db119936",
   "metadata": {},
   "source": [
    "## 7. What are the values of the following expressions?\n",
    "    * 'Hello'.upper() = 'HELLO'\n",
    "    * 'Hello'.upper().isupper() = True\n",
    "    * 'Hello'.upper().lower() = 'hello'"
   ]
  },
  {
   "cell_type": "markdown",
   "id": "0503d8d2",
   "metadata": {},
   "source": [
    "## 8. What are the values of the following expressions?\n",
    "    1. 'Remember, remember, the fifth of July.'.split()\n",
    "        ['Remember,', 'remember,', 'the', 'fifth', 'of', 'July.']\n",
    "    \n",
    "    2. '-'.join('There can only one.'.split())\n",
    "        'There-can-only-one.'"
   ]
  },
  {
   "cell_type": "markdown",
   "id": "6e9aa455",
   "metadata": {},
   "source": [
    "## 9. What are the methods for right-justifying, left-justifying, and centering a string?"
   ]
  },
  {
   "cell_type": "code",
   "execution_count": 45,
   "id": "cff08422",
   "metadata": {},
   "outputs": [],
   "source": [
    "string = 'thomaskutty'"
   ]
  },
  {
   "cell_type": "code",
   "execution_count": 46,
   "id": "b93c006b",
   "metadata": {},
   "outputs": [
    {
     "name": "stdout",
     "output_type": "stream",
     "text": [
      "original string = thomaskutty\n",
      "ljust =  thomaskutty-----------------------------\n",
      "rjust =  -----------------------------thomaskutty\n",
      "center =  --------------thomaskutty---------------\n"
     ]
    }
   ],
   "source": [
    "print(f'original string = {string}')\n",
    "print('ljust = ',string.ljust(40,'-'))\n",
    "print('rjust = ', string.rjust(40,'-'))\n",
    "print('center = ', string.center(40,'-'))"
   ]
  },
  {
   "cell_type": "markdown",
   "id": "c9f434cc",
   "metadata": {},
   "source": [
    "## 10. What is the best way to remove whitespace characters from the start or end?\n",
    "\n",
    "we can use lstrip() or rstrip() or strip() methods available in strings for removing whitespaces from left,right or both respectively."
   ]
  },
  {
   "cell_type": "code",
   "execution_count": 48,
   "id": "a684efe3",
   "metadata": {},
   "outputs": [
    {
     "name": "stdout",
     "output_type": "stream",
     "text": [
      "original string=     checking     methods      \n",
      "no_left space = checking     methods      \n",
      "no right strip=      checking     methods\n",
      "no trailing white space = checking     methods\n"
     ]
    }
   ],
   "source": [
    "string = '    checking     methods      ' \n",
    "print('original string=', string)\n",
    "print('no_left space =', string.lstrip()) \n",
    "print('no right strip= ', string.rstrip()) \n",
    "print('no trailing white space =' , string.strip())"
   ]
  },
  {
   "cell_type": "code",
   "execution_count": null,
   "id": "e3ede696",
   "metadata": {},
   "outputs": [],
   "source": []
  }
 ],
 "metadata": {
  "kernelspec": {
   "display_name": "Python 3.8.8 64-bit ('base': conda)",
   "language": "python",
   "name": "python388jvsc74a57bd0b7dce63e39a4a8c98f5a1ef1e65571106e15efed32663927d397570964b86d03"
  },
  "language_info": {
   "codemirror_mode": {
    "name": "ipython",
    "version": 3
   },
   "file_extension": ".py",
   "mimetype": "text/x-python",
   "name": "python",
   "nbconvert_exporter": "python",
   "pygments_lexer": "ipython3",
   "version": "3.8.8"
  }
 },
 "nbformat": 4,
 "nbformat_minor": 5
}
