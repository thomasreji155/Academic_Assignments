{
 "cells": [
  {
   "cell_type": "markdown",
   "id": "e0b0af99",
   "metadata": {},
   "source": [
    "# Assignment 5 "
   ]
  },
  {
   "cell_type": "markdown",
   "id": "a5385077",
   "metadata": {},
   "source": [
    "## 1. What does an empty dictionary's code look like?"
   ]
  },
  {
   "cell_type": "code",
   "execution_count": 8,
   "id": "7d0267f9",
   "metadata": {},
   "outputs": [],
   "source": [
    "empty_dict = dict()"
   ]
  },
  {
   "cell_type": "markdown",
   "id": "915a6d55",
   "metadata": {},
   "source": [
    "## 2. What is the value of a dictionary value with the key 'foo' and the value 42?\n"
   ]
  },
  {
   "cell_type": "code",
   "execution_count": 11,
   "id": "e0778c63",
   "metadata": {},
   "outputs": [
    {
     "data": {
      "text/plain": [
       "dict_values([42])"
      ]
     },
     "execution_count": 11,
     "metadata": {},
     "output_type": "execute_result"
    }
   ],
   "source": [
    "d = dict({'foo':42})\n",
    "d.values()"
   ]
  },
  {
   "cell_type": "markdown",
   "id": "e2b6e53a",
   "metadata": {},
   "source": [
    "## 3. What is the most significant distinction between a dictionary and a list?"
   ]
  },
  {
   "cell_type": "markdown",
   "id": "bfa15040",
   "metadata": {},
   "source": [
    "### Answer\n",
    "Dictionary is unordered, the values are accessed and entered using keys, Whereas in lists values are extracted using indexes, so list is ordered collection."
   ]
  },
  {
   "cell_type": "markdown",
   "id": "7cccaa32",
   "metadata": {},
   "source": [
    "## 4. What happens if you try to access spam['foo'] if spam is {'bar': 100}?"
   ]
  },
  {
   "cell_type": "code",
   "execution_count": 14,
   "id": "c3929ee3",
   "metadata": {},
   "outputs": [
    {
     "ename": "KeyError",
     "evalue": "'foo'",
     "output_type": "error",
     "traceback": [
      "\u001b[0;31m---------------------------------------------------------------------------\u001b[0m",
      "\u001b[0;31mKeyError\u001b[0m                                  Traceback (most recent call last)",
      "\u001b[0;32m<ipython-input-14-789471ea9c0e>\u001b[0m in \u001b[0;36m<module>\u001b[0;34m\u001b[0m\n\u001b[1;32m      1\u001b[0m \u001b[0mspam\u001b[0m \u001b[0;34m=\u001b[0m \u001b[0;34m{\u001b[0m\u001b[0;34m'bar'\u001b[0m\u001b[0;34m:\u001b[0m\u001b[0;36m100\u001b[0m\u001b[0;34m}\u001b[0m \u001b[0;31m# this is a dictionary\u001b[0m\u001b[0;34m\u001b[0m\u001b[0;34m\u001b[0m\u001b[0m\n\u001b[0;32m----> 2\u001b[0;31m \u001b[0mspam\u001b[0m\u001b[0;34m[\u001b[0m\u001b[0;34m'foo'\u001b[0m\u001b[0;34m]\u001b[0m \u001b[0;31m# we get error because there is no key called 'foo' inside the spam dictionary\u001b[0m\u001b[0;34m\u001b[0m\u001b[0;34m\u001b[0m\u001b[0m\n\u001b[0m",
      "\u001b[0;31mKeyError\u001b[0m: 'foo'"
     ]
    }
   ],
   "source": [
    "spam = {'bar':100} # this is a dictionary \n",
    "spam['foo'] # we get error because there is no key called 'foo' inside the spam dictionary"
   ]
  },
  {
   "cell_type": "markdown",
   "id": "fe92b001",
   "metadata": {},
   "source": [
    "## 5. If a dictionary is stored in spam, what is the difference between the expressions 'cat' in spam and 'cat' in spam.keys()?\n"
   ]
  },
  {
   "cell_type": "markdown",
   "id": "6374c9e4",
   "metadata": {},
   "source": [
    "Both expression are used to check whether there is any key named 'cat' inside the dictionary. \n",
    "both statement return flase if there is no key inside the dictionary and will reuturn true if there is key named 'cat' \n",
    "for example: "
   ]
  },
  {
   "cell_type": "code",
   "execution_count": 26,
   "id": "58dc8be5",
   "metadata": {},
   "outputs": [
    {
     "name": "stdout",
     "output_type": "stream",
     "text": [
      "True\n",
      "True\n",
      "False\n",
      "False\n"
     ]
    }
   ],
   "source": [
    "spam1 ={'cat':123}\n",
    "print('cat' in spam1)\n",
    "print('cat' in spam.keys())\n",
    "\n",
    "spam2 = {'a':'cat'} \n",
    "print('cat' in spam2) \n",
    "print('cat' in spam2.keys())"
   ]
  },
  {
   "cell_type": "markdown",
   "id": "34a97ea0",
   "metadata": {},
   "source": [
    "## 6. If a dictionary is stored in spam, what is the difference between the expressions 'cat' in spam and 'cat' in spam.values()?\n"
   ]
  },
  {
   "cell_type": "markdown",
   "id": "d7247263",
   "metadata": {},
   "source": [
    "    'cat' in spam \n",
    "    Checks whethere there is any key named 'cat' inside the spam dictionary \n",
    "\n",
    "    'cat' in spam.values()\n",
    "    Checks whethere there there is any value named 'cat' inside the dictioary. "
   ]
  },
  {
   "cell_type": "code",
   "execution_count": 31,
   "id": "6508e2e0",
   "metadata": {},
   "outputs": [
    {
     "data": {
      "text/plain": [
       "True"
      ]
     },
     "execution_count": 31,
     "metadata": {},
     "output_type": "execute_result"
    }
   ],
   "source": [
    "spam = {'a':'cat'} \n",
    "'cat' in spam.values()"
   ]
  },
  {
   "cell_type": "markdown",
   "id": "2972cb77",
   "metadata": {},
   "source": [
    "## 7. What is a shortcut for the following code?\n",
    "    if 'color' not in spam:\n",
    "    spam['color'] = 'black'\n"
   ]
  },
  {
   "cell_type": "code",
   "execution_count": 40,
   "id": "86a230f2",
   "metadata": {},
   "outputs": [
    {
     "data": {
      "text/plain": [
       "{'size': 23, 'color': 'green'}"
      ]
     },
     "execution_count": 40,
     "metadata": {},
     "output_type": "execute_result"
    }
   ],
   "source": [
    "spam = {'size':23}\n",
    "spam.update({'color':'green'})\n",
    "spam"
   ]
  },
  {
   "cell_type": "markdown",
   "id": "3303e4e3",
   "metadata": {},
   "source": [
    "\n",
    "## 8. How do you \"pretty print\" dictionary values using which module and function?\n"
   ]
  },
  {
   "cell_type": "code",
   "execution_count": 45,
   "id": "8d41d540",
   "metadata": {},
   "outputs": [
    {
     "name": "stdout",
     "output_type": "stream",
     "text": [
      "{'color': 'green', 'size': 23}\n"
     ]
    }
   ],
   "source": [
    "import pprint  # importing pprint \n",
    "pprint.pprint(spam) "
   ]
  },
  {
   "cell_type": "markdown",
   "id": "4e5706ea",
   "metadata": {},
   "source": [
    "## Thank you :)"
   ]
  }
 ],
 "metadata": {
  "kernelspec": {
   "display_name": "Python 3.8.8 64-bit ('base': conda)",
   "language": "python",
   "name": "python388jvsc74a57bd0b7dce63e39a4a8c98f5a1ef1e65571106e15efed32663927d397570964b86d03"
  },
  "language_info": {
   "codemirror_mode": {
    "name": "ipython",
    "version": 3
   },
   "file_extension": ".py",
   "mimetype": "text/x-python",
   "name": "python",
   "nbconvert_exporter": "python",
   "pygments_lexer": "ipython3",
   "version": "3.8.8"
  }
 },
 "nbformat": 4,
 "nbformat_minor": 5
}
