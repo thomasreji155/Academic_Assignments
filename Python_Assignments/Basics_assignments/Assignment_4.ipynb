{
 "cells": [
  {
   "cell_type": "markdown",
   "id": "93907c4a",
   "metadata": {},
   "source": [
    "# Assignment 4"
   ]
  },
  {
   "cell_type": "markdown",
   "id": "0f0acb7d",
   "metadata": {},
   "source": [
    "## 1. What exactly is [ ]?"
   ]
  },
  {
   "cell_type": "markdown",
   "id": "2aa684e5",
   "metadata": {},
   "source": [
    "    In python we use [ ] to create a list of objects "
   ]
  },
  {
   "cell_type": "markdown",
   "id": "7c3ee5d7",
   "metadata": {},
   "source": [
    "## 2. In a list of values stored in a variable called spam, how would you assign the value 'hello' as the third value? (Assume [2, 4, 6, 8, 10] are in spam.)\n"
   ]
  },
  {
   "cell_type": "code",
   "execution_count": 21,
   "id": "d3265a8a",
   "metadata": {},
   "outputs": [
    {
     "name": "stdout",
     "output_type": "stream",
     "text": [
      "[2, 4, 6, 'hello', 8, 10]\n"
     ]
    }
   ],
   "source": [
    "spam = [2,4,6,8,10] \n",
    "spam.insert(3,'hello')\n",
    "print(spam)"
   ]
  },
  {
   "cell_type": "markdown",
   "id": "c267002f",
   "metadata": {},
   "source": [
    "## Let's pretend the spam includes the list ['a', 'b', 'c', 'd'] for the next three queries.\n",
    "## 3. What is the value of spam[int(int('3' * 2) / 11)]?"
   ]
  },
  {
   "cell_type": "markdown",
   "id": "2f05e107",
   "metadata": {},
   "source": [
    "    spam = ['a','b','c','d']\n",
    "    value of spam[int(int('3'*2)/11)] is 'd'"
   ]
  },
  {
   "cell_type": "markdown",
   "id": "09f739b8",
   "metadata": {},
   "source": [
    "## 4. What is the value of spam[-1]?"
   ]
  },
  {
   "cell_type": "markdown",
   "id": "28cd1d48",
   "metadata": {},
   "source": [
    "    spam[-1] is 'd'"
   ]
  },
  {
   "cell_type": "markdown",
   "id": "04d6a03c",
   "metadata": {},
   "source": [
    "## 5. What is the value of spam[:2]?\n",
    "    \n",
    "    spam[:2] = ['a','b'] "
   ]
  },
  {
   "cell_type": "markdown",
   "id": "4c28da6f",
   "metadata": {},
   "source": [
    "### Note :  Let's pretend bacon has the list [3.14, 'cat,' 11, 'cat,' True] for the next three questions.\n",
    "## 6. What is the value of bacon.index('cat')?\n",
    "\n",
    "    bacon.index('cat') = 1 "
   ]
  },
  {
   "cell_type": "code",
   "execution_count": 32,
   "id": "4ab51501",
   "metadata": {},
   "outputs": [],
   "source": [
    "bacon = [3.14, 'cat', 11, 'cat,', True]"
   ]
  },
  {
   "cell_type": "markdown",
   "id": "9fe3c790",
   "metadata": {},
   "source": [
    "## 7. How does bacon.append(99) change the look of the list value in bacon?"
   ]
  },
  {
   "cell_type": "markdown",
   "id": "44e43d85",
   "metadata": {},
   "source": [
    "    newbacon will be as follows ; \n",
    "    bacon = [3.14, 'cat', 11, 'cat,', True, 99]"
   ]
  },
  {
   "cell_type": "markdown",
   "id": "cfc8bab7",
   "metadata": {},
   "source": [
    "## 8. How does bacon.remove('cat') change the look of the list in bacon?\n",
    "    \n",
    "    bacon = [3.14, 11, 'cat,', True]"
   ]
  },
  {
   "cell_type": "markdown",
   "id": "6ef7bf0c",
   "metadata": {},
   "source": []
  },
  {
   "cell_type": "markdown",
   "id": "bcde2e04",
   "metadata": {},
   "source": [
    "## 9. What are the list concatenation and list replication operators?"
   ]
  },
  {
   "cell_type": "markdown",
   "id": "febde8a1",
   "metadata": {},
   "source": [
    "    Both list concatenation and replication will create a new objects from theh operands \n",
    "    We use  + operator for concatenating lists and  * operator for replicating lists "
   ]
  },
  {
   "cell_type": "code",
   "execution_count": 35,
   "id": "c81fdf37",
   "metadata": {},
   "outputs": [
    {
     "name": "stdout",
     "output_type": "stream",
     "text": [
      "['a', 'b', 'c', 2, 3, 54, 2]\n",
      "['a', 'b', 'c', 'a', 'b', 'c']\n"
     ]
    }
   ],
   "source": [
    "list1 = ['a','b','c'] \n",
    "list2 = [2,3,54,2]\n",
    "print(list1+list2 )  # list concatenation \n",
    "print(list1*2)  # list replication "
   ]
  },
  {
   "cell_type": "markdown",
   "id": "1720e9f0",
   "metadata": {},
   "source": [
    "## 10. What is difference between the list methods append() and insert()?"
   ]
  },
  {
   "cell_type": "markdown",
   "id": "cdfb601e",
   "metadata": {},
   "source": [
    "    append() insert the value at the end of the list, whereas using insert we can insert values at a specified index"
   ]
  },
  {
   "cell_type": "markdown",
   "id": "6d47c8de",
   "metadata": {},
   "source": [
    "## 11. What are the two methods for removing items from a list?"
   ]
  },
  {
   "cell_type": "markdown",
   "id": "399dd098",
   "metadata": {},
   "source": [
    "    pop() method and remove() method "
   ]
  },
  {
   "cell_type": "markdown",
   "id": "452fbb03",
   "metadata": {},
   "source": [
    "## 12. Describe how list values and string values are identical."
   ]
  },
  {
   "cell_type": "markdown",
   "id": "6f752db0",
   "metadata": {},
   "source": [
    "    Both are ordered so we can access elements using indexes. \n",
    "    list can have any type of values but strings has only character values. Strings and list are similar in the sense that the element retrival is same in both cases(by indexes).\n"
   ]
  },
  {
   "cell_type": "markdown",
   "id": "5ae10801",
   "metadata": {},
   "source": [
    "## 13. What's the difference between tuples and lists?"
   ]
  },
  {
   "cell_type": "markdown",
   "id": "8fc31e7d",
   "metadata": {},
   "source": [
    "    list is mutable but tuple is immutable."
   ]
  },
  {
   "cell_type": "markdown",
   "id": "e203fdb9",
   "metadata": {},
   "source": [
    "## 14. How do you type a tuple value that only contains the integer 42?"
   ]
  },
  {
   "cell_type": "code",
   "execution_count": 6,
   "id": "08f6af87",
   "metadata": {},
   "outputs": [
    {
     "data": {
      "text/plain": [
       "tuple"
      ]
     },
     "execution_count": 6,
     "metadata": {},
     "output_type": "execute_result"
    }
   ],
   "source": [
    "t = (42,) \n",
    "type(t)"
   ]
  },
  {
   "cell_type": "markdown",
   "id": "c5d00c26",
   "metadata": {},
   "source": [
    "## 15. How do you get a list value's tuple form? How do you get a tuple value's list form?"
   ]
  },
  {
   "cell_type": "markdown",
   "id": "ed6bbeda",
   "metadata": {},
   "source": [
    "    suppose t = (3,2,4) is a suppose then to get a list of this tuple, we can pass that inside list() function. \n",
    "    To get a tuple from a list we can pass the list inside the  tuple() fuction. "
   ]
  },
  {
   "cell_type": "markdown",
   "id": "0ff234cd",
   "metadata": {},
   "source": [
    "## 16. Variables that \"contain\" list values are not necessarily lists themselves. Instead, what do they contain?"
   ]
  },
  {
   "cell_type": "code",
   "execution_count": 47,
   "id": "2ab1d5ed",
   "metadata": {},
   "outputs": [
    {
     "name": "stdout",
     "output_type": "stream",
     "text": [
      "139646385042432\n",
      "94026980691264\n",
      "94026980691264\n"
     ]
    }
   ],
   "source": [
    "# variables that contain list values has references to the list values. \n",
    "l = [1,2,3,4]\n",
    "print(id(l))      # id of variable which contain listvalue \n",
    "print(id(l[0]))   # references to the id of 1 \n",
    "print(id(1))      # actual id of 1 \n"
   ]
  },
  {
   "cell_type": "markdown",
   "id": "b3f1aba5",
   "metadata": {},
   "source": [
    "## 17. How do you distinguish between copy.copy() and copy.deepcopy()?"
   ]
  },
  {
   "cell_type": "code",
   "execution_count": 18,
   "id": "e510a4ee",
   "metadata": {},
   "outputs": [],
   "source": [
    "import copy \n",
    "l = [3,2,4,2,[2,4,2]] \n",
    "m = copy.copy(l) \n",
    "\n",
    "g = copy.deepcopy(l) "
   ]
  },
  {
   "cell_type": "code",
   "execution_count": 19,
   "id": "1281c1cd",
   "metadata": {},
   "outputs": [
    {
     "name": "stdout",
     "output_type": "stream",
     "text": [
      "[3, 2, 4, 2, ['thomas', 4, 2]]\n",
      "[3, 2, 4, 2, [2, 4, 2]]\n"
     ]
    }
   ],
   "source": [
    "g[4][0] = 'thomas'\n",
    "print(g)\n",
    "print(l)   # the original list is not changed when we use deep copy "
   ]
  },
  {
   "cell_type": "code",
   "execution_count": 20,
   "id": "8e682dc0",
   "metadata": {},
   "outputs": [
    {
     "name": "stdout",
     "output_type": "stream",
     "text": [
      "[3, 2, 4, 2, ['thomas', 4, 2]]\n",
      "[3, 2, 4, 2, ['thomas', 4, 2]]\n"
     ]
    }
   ],
   "source": [
    "m[4][0] = 'thomas'\n",
    "print(m)\n",
    "print(l)      # the nested value of l is also changed when we use copy "
   ]
  },
  {
   "cell_type": "markdown",
   "id": "c4ffd417",
   "metadata": {},
   "source": [
    "## Thank you :) "
   ]
  }
 ],
 "metadata": {
  "kernelspec": {
   "display_name": "Python 3.8.8 64-bit ('base': conda)",
   "language": "python",
   "name": "python388jvsc74a57bd0b7dce63e39a4a8c98f5a1ef1e65571106e15efed32663927d397570964b86d03"
  },
  "language_info": {
   "codemirror_mode": {
    "name": "ipython",
    "version": 3
   },
   "file_extension": ".py",
   "mimetype": "text/x-python",
   "name": "python",
   "nbconvert_exporter": "python",
   "pygments_lexer": "ipython3",
   "version": "3.8.8"
  }
 },
 "nbformat": 4,
 "nbformat_minor": 5
}
